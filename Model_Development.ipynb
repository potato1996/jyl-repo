{
 "cells": [
  {
   "cell_type": "markdown",
   "metadata": {},
   "source": [
    "# 1. Model Development Using Training Set"
   ]
  },
  {
   "cell_type": "markdown",
   "metadata": {},
   "source": [
    "## 1.1 Model Development"
   ]
  },
  {
   "cell_type": "code",
   "execution_count": 6,
   "metadata": {},
   "outputs": [
    {
     "name": "stderr",
     "output_type": "stream",
     "text": [
      "\n",
      "Attaching package: 'zoo'\n",
      "\n",
      "The following objects are masked from 'package:base':\n",
      "\n",
      "    as.Date, as.Date.numeric\n",
      "\n",
      "\n",
      "Attaching package: 'pls'\n",
      "\n",
      "The following object is masked from 'package:stats':\n",
      "\n",
      "    loadings\n",
      "\n"
     ]
    }
   ],
   "source": [
    "library(ggplot2)\n",
    "library(data.table)\n",
    "library(zoo)\n",
    "library(plyr)\n",
    "library(pls)\n",
    "library(stringr)"
   ]
  },
  {
   "cell_type": "code",
   "execution_count": 338,
   "metadata": {},
   "outputs": [
    {
     "name": "stdout",
     "output_type": "stream",
     "text": [
      "\r",
      "Read 13.4% of 74855 rows\r",
      "Read 66.8% of 74855 rows\r",
      "Read 74855 rows and 23 (of 23) columns from 0.022 GB file in 00:00:04\n"
     ]
    }
   ],
   "source": [
    "# Load processed data obtained from Data_Process.ipynb\n",
    "data <- fread(\"data_winsorized_withoutNAreplace.csv\")\n",
    "#data <- fread(\"data_winsorized_NAreplaced.csv\")"
   ]
  },
  {
   "cell_type": "code",
   "execution_count": 339,
   "metadata": {},
   "outputs": [],
   "source": [
    "# Generate Momentum Factors\n",
    "data <- data[, ctmp_returns := shift(fwd_returns, 1), by = stock]\n",
    "data <- data[, len := .N, by = stock]\n",
    "data <- data[, \":=\"(\n",
    "            # Return of the most recent past month\n",
    "            F21 = ctmp_returns, \n",
    "            # MA of past 3 months' returns\n",
    "            F22 = ifelse(len >= 3, rollapply(ctmp_returns, 3, mean, fill = NA, align = \"right\"), as.numeric(NA)), \n",
    "            # MA of past 6 months' returns\n",
    "            F23 = ifelse(len >= 6, rollapply(ctmp_returns, 6, mean, fill = NA, align = \"right\"), as.numeric(NA)), \n",
    "            # MA of past 12 months' returns\n",
    "            F24 = ifelse(len >= 12, rollapply(ctmp_returns, 12, mean, fill = NA, align = \"right\"), as.numeric(NA))\n",
    "), by = stock]\n",
    "# remove useless columns\n",
    "data <- data[, c(1:23, 26:29)] "
   ]
  },
  {
   "cell_type": "code",
   "execution_count": 345,
   "metadata": {},
   "outputs": [],
   "source": [
    "## Split into test/training set\n",
    "# Since we are analyzing time series, for simplicity, take the observations on the first 70% days as training set,\n",
    "# and the observations on the remaining 30% days as test set\n",
    "split_date = length(unique(data$date)) * 0.7 # 84 out of 120 days\n",
    "data_train <- data[as.numeric(substr(date, 2, 4)) <= split_date,]\n",
    "data_test <- data[as.numeric(substr(date, 2, 4)) > split_date,]\n",
    "\n",
    "# Order by date and stock\n",
    "data_train <- data_train[order(stock, date),]\n",
    "data_test <- data_test[order(stock, date),]"
   ]
  },
  {
   "cell_type": "code",
   "execution_count": 341,
   "metadata": {
    "collapsed": true
   },
   "outputs": [
    {
     "name": "stdout",
     "output_type": "stream",
     "text": [
      "date \n",
      "data_nm1:\n",
      "   Length     Class      Mode \n",
      "    74855 character character \n",
      "data_nm2:\n",
      "   Length     Class      Mode \n",
      "    54104 character character \n",
      "\n",
      "fwd_returns \n",
      "data_nm1:\n",
      "    Min.  1st Qu.   Median     Mean  3rd Qu.     Max. \n",
      "-28.2596  -3.8840   1.0417   0.9219   5.7935  30.8352 \n",
      "data_nm2:\n",
      "    Min.  1st Qu.   Median     Mean  3rd Qu.     Max. \n",
      "-28.2596  -4.2955   1.0121   0.8719   6.0889  30.8352 \n",
      "\n",
      "F01 \n",
      "data_nm1:\n",
      "   Min. 1st Qu.  Median    Mean 3rd Qu.    Max.    NA's \n",
      " 0.2681  0.8650  1.5891  2.1758  2.8376  7.1494     606 \n",
      "data_nm2:\n",
      "   Min. 1st Qu.  Median    Mean 3rd Qu.    Max.    NA's \n",
      " 0.2681  0.8082  1.4773  2.0759  2.6912  7.1494     512 \n",
      "\n",
      "F02 \n",
      "data_nm1:\n",
      "   Min. 1st Qu.  Median    Mean 3rd Qu.    Max.    NA's \n",
      "  0.000   2.000   3.000   3.775   5.000   9.000     202 \n",
      "data_nm2:\n",
      "   Min. 1st Qu.  Median    Mean 3rd Qu.    Max.    NA's \n",
      "  0.000   2.000   3.000   3.805   6.000   9.000     143 \n",
      "\n",
      "F03 \n",
      "data_nm1:\n",
      "   Min. 1st Qu.  Median    Mean 3rd Qu.    Max.    NA's \n",
      "   1703    4887    9986   18630   21260   90166     439 \n",
      "data_nm2:\n",
      "   Min. 1st Qu.  Median    Mean 3rd Qu.    Max.    NA's \n",
      "   1703    4366    8628   16583   18212   90166     388 \n",
      "\n",
      "F04 \n",
      "data_nm1:\n",
      "   Min. 1st Qu.  Median    Mean 3rd Qu.    Max.    NA's \n",
      " 0.8247  1.6057  2.6042  3.3747  4.2322 10.3306    2631 \n",
      "data_nm2:\n",
      "   Min. 1st Qu.  Median    Mean 3rd Qu.    Max.    NA's \n",
      " 0.8247  1.5604  2.5053  3.2316  4.0118 10.3306    1852 \n",
      "\n",
      "F05 \n",
      "data_nm1:\n",
      "   Min. 1st Qu.  Median    Mean 3rd Qu.    Max.    NA's \n",
      "-43.738  -6.963  11.280  11.837  29.581  73.518     701 \n",
      "data_nm2:\n",
      "   Min. 1st Qu.  Median    Mean 3rd Qu.    Max.    NA's \n",
      "-43.738 -11.444   8.358   9.477  28.258  73.518     573 \n",
      "\n",
      "F06 \n",
      "data_nm1:\n",
      "    Min.  1st Qu.   Median     Mean  3rd Qu.     Max.     NA's \n",
      "-14.6490  -4.0685   0.8978   0.7849   5.6170  16.2793       56 \n",
      "data_nm2:\n",
      "    Min.  1st Qu.   Median     Mean  3rd Qu.     Max.     NA's \n",
      "-14.6490  -4.4593   0.8095   0.6852   5.7797  16.2793       44 \n",
      "\n",
      "F07 \n",
      "data_nm1:\n",
      "   Min. 1st Qu.  Median    Mean 3rd Qu.    Max.    NA's \n",
      "  0.000   0.276   0.597   0.956   1.197   4.158    5391 \n",
      "data_nm2:\n",
      "   Min. 1st Qu.  Median    Mean 3rd Qu.    Max.    NA's \n",
      "  0.000   0.250   0.568   0.933   1.185   4.158    3914 \n",
      "\n",
      "F08 \n",
      "data_nm1:\n",
      "   Min. 1st Qu.  Median    Mean 3rd Qu.    Max.    NA's \n",
      " -0.181  -0.080  -0.039  -0.041  -0.001   0.094   13868 \n",
      "data_nm2:\n",
      "   Min. 1st Qu.  Median    Mean 3rd Qu.    Max.    NA's \n",
      " -0.181  -0.081  -0.038  -0.041   0.000   0.094   10213 \n",
      "\n",
      "F09 \n",
      "data_nm1:\n",
      "   Min. 1st Qu.  Median    Mean 3rd Qu.    Max.    NA's \n",
      "-15.076   7.746  13.954  14.612  21.332  44.519    2934 \n",
      "data_nm2:\n",
      "   Min. 1st Qu.  Median    Mean 3rd Qu.    Max.    NA's \n",
      "-15.076   7.647  14.009  14.373  21.323  44.519    2112 \n",
      "\n",
      "F10 \n",
      "data_nm1:\n",
      "   Min. 1st Qu.  Median    Mean 3rd Qu.    Max.    NA's \n",
      "  0.624   5.340  14.857  20.837  32.727  64.651   13144 \n",
      "data_nm2:\n",
      "   Min. 1st Qu.  Median    Mean 3rd Qu.    Max.    NA's \n",
      "  0.624   4.900  14.179  20.250  31.697  64.651    9820 \n",
      "\n",
      "F11 \n",
      "data_nm1:\n",
      "   Min. 1st Qu.  Median    Mean 3rd Qu.    Max. \n",
      "  0.000   4.000   5.000   5.395   7.000   9.000 \n",
      "data_nm2:\n",
      "   Min. 1st Qu.  Median    Mean 3rd Qu.    Max. \n",
      "   0.00    4.00    5.00    5.36    7.00    9.00 \n",
      "\n",
      "F12 \n",
      "data_nm1:\n",
      "   Min. 1st Qu.  Median    Mean 3rd Qu.    Max.    NA's \n",
      "-160.00  -18.18   10.64   20.52   42.86  270.39     498 \n",
      "data_nm2:\n",
      "   Min. 1st Qu.  Median    Mean 3rd Qu.    Max.    NA's \n",
      "-160.00  -19.23   11.76   21.33   45.95  270.39     452 \n",
      "\n",
      "F13 \n",
      "data_nm1:\n",
      "   Min. 1st Qu.  Median    Mean 3rd Qu.    Max.    NA's \n",
      " 0.9639  1.3475  1.8272  2.1239  2.5797  4.8236     743 \n",
      "data_nm2:\n",
      "   Min. 1st Qu.  Median    Mean 3rd Qu.    Max.    NA's \n",
      " 0.9639  1.5057  2.0330  2.3239  2.8670  4.8236     610 \n",
      "\n",
      "F14 \n",
      "data_nm1:\n",
      "   Min. 1st Qu.  Median    Mean 3rd Qu.    Max.    NA's \n",
      "  0.000   0.000   1.337   1.716   2.679   5.877     103 \n",
      "data_nm2:\n",
      "   Min. 1st Qu.  Median    Mean 3rd Qu.    Max.    NA's \n",
      "  0.000   0.000   1.200   1.675   2.653   5.877      91 \n",
      "\n",
      "F15 \n",
      "data_nm1:\n",
      "   Min. 1st Qu.  Median    Mean 3rd Qu.    Max.    NA's \n",
      "-11.669   3.163   5.114   4.346   7.004  11.781     732 \n",
      "data_nm2:\n",
      "   Min. 1st Qu.  Median    Mean 3rd Qu.    Max.    NA's \n",
      "-11.669   3.187   5.326   4.417   7.293  11.781     649 \n",
      "\n",
      "F16 \n",
      "data_nm1:\n",
      "   Min. 1st Qu.  Median    Mean 3rd Qu.    Max.    NA's \n",
      " -2.889   5.258   7.885   8.600  11.556  21.658     103 \n",
      "data_nm2:\n",
      "   Min. 1st Qu.  Median    Mean 3rd Qu.    Max.    NA's \n",
      " -2.889   5.318   8.191   8.776  11.960  21.658      91 \n",
      "\n",
      "F17 \n",
      "data_nm1:\n",
      "   Min. 1st Qu.  Median    Mean 3rd Qu.    Max.    NA's \n",
      " 0.0502  0.0895  0.1371  0.1702  0.2212  0.4402    1094 \n",
      "data_nm2:\n",
      "   Min. 1st Qu.  Median    Mean 3rd Qu.    Max.    NA's \n",
      " 0.0502  0.0853  0.1311  0.1638  0.2123  0.4402     866 \n",
      "\n",
      "F18 \n",
      "data_nm1:\n",
      "   Min. 1st Qu.  Median    Mean 3rd Qu.    Max.    NA's \n",
      " -4.405   6.010   9.187   9.348  12.752  21.970     921 \n",
      "data_nm2:\n",
      "   Min. 1st Qu.  Median    Mean 3rd Qu.    Max.    NA's \n",
      " -4.405   6.217   9.647   9.642  13.214  21.970     696 \n",
      "\n",
      "F19 \n",
      "data_nm1:\n",
      "   Min. 1st Qu.  Median    Mean 3rd Qu.    Max.    NA's \n",
      " -7.767   4.014   8.614   9.507  14.616  28.001    1028 \n",
      "data_nm2:\n",
      "   Min. 1st Qu.  Median    Mean 3rd Qu.    Max.    NA's \n",
      " -7.767   3.952   8.750   9.585  15.001  28.001     863 \n",
      "\n",
      "F20 \n",
      "data_nm1:\n",
      "   Min. 1st Qu.  Median    Mean 3rd Qu.    Max. \n",
      "   1296    3482    7945   16491   18625   89752 \n",
      "data_nm2:\n",
      "   Min. 1st Qu.  Median    Mean 3rd Qu.    Max. \n",
      "   1296    3139    7220   15394   16989   89752 \n",
      "\n",
      "F21 \n",
      "data_nm1:\n",
      "    Min.  1st Qu.   Median     Mean  3rd Qu.     Max.     NA's \n",
      "-28.2596  -3.8600   1.0899   0.9563   5.8316  30.8352      731 \n",
      "data_nm2:\n",
      "    Min.  1st Qu.   Median     Mean  3rd Qu.     Max.     NA's \n",
      "-28.2596  -4.3792   0.9623   0.8054   6.0204  30.8352      719 \n",
      "\n",
      "F22 \n",
      "data_nm1:\n",
      "    Min.  1st Qu.   Median     Mean  3rd Qu.     Max.     NA's \n",
      "-28.2596  -1.7308   1.2074   0.9197   3.9359  30.8352     2189 \n",
      "data_nm2:\n",
      "    Min.  1st Qu.   Median     Mean  3rd Qu.     Max.     NA's \n",
      "-28.2596  -2.2062   1.0716   0.7527   4.0476  30.8352     2155 \n",
      "\n",
      "F23 \n",
      "data_nm1:\n",
      "   Min. 1st Qu.  Median    Mean 3rd Qu.    Max.    NA's \n",
      "-25.920  -0.923   1.219   0.933   3.133  25.808    4365 \n",
      "data_nm2:\n",
      "   Min. 1st Qu.  Median    Mean 3rd Qu.    Max.    NA's \n",
      "-25.920  -1.360   1.036   0.727   3.161  25.808    4298 \n",
      "\n",
      "F24 \n",
      "data_nm1:\n",
      "   Min. 1st Qu.  Median    Mean 3rd Qu.    Max.    NA's \n",
      "-18.692  -0.354   1.187   0.972   2.547  18.051    8645 \n",
      "data_nm2:\n",
      "   Min. 1st Qu.  Median    Mean 3rd Qu.    Max.    NA's \n",
      "-18.692  -0.823   0.944   0.719   2.475  18.051    8517 \n",
      "\n"
     ]
    }
   ],
   "source": [
    "# Check if the training set is a good representative of the full dataset\n",
    "\n",
    "# Function to compare statistics\n",
    "compare_stats <- function(data_nm1, data_nm2){\n",
    "    data1 <- get(data_nm1)\n",
    "    data2 <- get(data_nm2)\n",
    "    for (nm in colnames(data1)[2:dim(data1)[2]]){\n",
    "        cat(nm, \"\\ndata_nm1:\\n\")\n",
    "        print(summary(data1[[nm]]))\n",
    "        cat(\"data_nm2:\\n\")\n",
    "        print(summary(data2[[nm]]))\n",
    "        cat(\"\\n\")\n",
    "}}\n",
    "\n",
    "# Compare\n",
    "compare_stats(\"data\", \"data_train\")"
   ]
  },
  {
   "cell_type": "code",
   "execution_count": 347,
   "metadata": {},
   "outputs": [],
   "source": [
    "## Standardization\n",
    "# Standardize non-categorical factors\n",
    "means <- colMeans(data_train[, c(3:4, 6:13, 15:27)], na.rm = T)\n",
    "sds <- apply(data_train[, c(3:4, 6:13, 15:27)], 2, sd, na.rm=TRUE)\n",
    "\n",
    "# Save original fwd_returns for backtest calculation\n",
    "fwd_returns_train <- data_train[[\"fwd_returns\"]]/100\n",
    "fwd_returns_test <- data_test[[\"fwd_returns\"]]/100\n",
    "\n",
    "# The out-sample features should also be normalized using in-sample mean and std\n",
    "normal <- function(data, means = means, sds = sds){\n",
    "    for (i in c(3:4, 6:13, 15:27)){\n",
    "        nm = colnames(data)[i]\n",
    "        data[[i]] <- (data[[i]] - means[nm])/ sds[nm]\n",
    "}\n",
    "    return (data)\n",
    "}\n",
    "\n",
    "data_train <- normal(data_train, means, sds)\n",
    "data_test <- normal(data_test, means, sds)"
   ]
  },
  {
   "cell_type": "code",
   "execution_count": 264,
   "metadata": {
    "collapsed": true
   },
   "outputs": [
    {
     "data": {
      "text/plain": [
       "    stock               date            fwd_returns            F01         \n",
       " Length:54104       Length:54104       Min.   :-2.92129   Min.   :-1.0088  \n",
       " Class :character   Class :character   1st Qu.:-0.51819   1st Qu.:-0.7074  \n",
       " Mode  :character   Mode  :character   Median : 0.01406   Median :-0.3340  \n",
       "                                       Mean   : 0.00000   Mean   : 0.0000  \n",
       "                                       3rd Qu.: 0.52315   3rd Qu.: 0.3434  \n",
       "                                       Max.   : 3.00471   Max.   : 2.8311  \n",
       "                                                          NA's   :512      \n",
       "      F02             F03               F04               F05         \n",
       " Min.   :0.000   Min.   :-0.7084   Min.   :-1.0113   Min.   :-1.7225  \n",
       " 1st Qu.:2.000   1st Qu.:-0.5817   1st Qu.:-0.7022   1st Qu.:-0.6772  \n",
       " Median :3.000   Median :-0.3787   Median :-0.3052   Median :-0.0362  \n",
       " Mean   :3.805   Mean   : 0.0000   Mean   : 0.0000   Mean   : 0.0000  \n",
       " 3rd Qu.:6.000   3rd Qu.: 0.0776   3rd Qu.: 0.3278   3rd Qu.: 0.6079  \n",
       " Max.   :9.000   Max.   : 3.5032   Max.   : 2.9828   Max.   : 2.0729  \n",
       " NA's   :143     NA's   :388       NA's   :1852      NA's   :573      \n",
       "      F06                F07              F08              F09         \n",
       " Min.   :-1.89201   Min.   :-0.886   Min.   :-2.044   Min.   :-2.1904  \n",
       " 1st Qu.:-0.63475   1st Qu.:-0.649   1st Qu.:-0.583   1st Qu.:-0.5003  \n",
       " Median : 0.01534   Median :-0.347   Median : 0.033   Median :-0.0271  \n",
       " Mean   : 0.00000   Mean   : 0.000   Mean   : 0.000   Mean   : 0.0000  \n",
       " 3rd Qu.: 0.62859   3rd Qu.: 0.240   3rd Qu.: 0.598   3rd Qu.: 0.5169  \n",
       " Max.   : 1.92410   Max.   : 3.066   Max.   : 1.959   Max.   : 2.2422  \n",
       " NA's   :44         NA's   :3914     NA's   :10213    NA's   :2112     \n",
       "      F10              F11            F12               F13         \n",
       " Min.   :-1.058   Min.   :0.00   Min.   :-1.9546   Min.   :-1.2598  \n",
       " 1st Qu.:-0.827   1st Qu.:4.00   1st Qu.:-0.4372   1st Qu.:-0.7579  \n",
       " Median :-0.327   Median :5.00   Median :-0.1031   Median :-0.2694  \n",
       " Mean   : 0.000   Mean   :5.36   Mean   : 0.0000   Mean   : 0.0000  \n",
       " 3rd Qu.: 0.617   3rd Qu.:7.00   3rd Qu.: 0.2653   3rd Qu.: 0.5031  \n",
       " Max.   : 2.393   Max.   :9.00   Max.   : 2.6845   Max.   : 2.3156  \n",
       " NA's   :9820                    NA's   :452       NA's   :610      \n",
       "      F14               F15               F16               F17         \n",
       " Min.   :-0.9551   Min.   :-2.9933   Min.   :-1.9609   Min.   :-1.0847  \n",
       " 1st Qu.:-0.9551   1st Qu.:-0.2290   1st Qu.:-0.5813   1st Qu.:-0.7497  \n",
       " Median :-0.2711   Median : 0.1692   Median :-0.0983   Median :-0.3129  \n",
       " Mean   : 0.0000   Mean   : 0.0000   Mean   : 0.0000   Mean   : 0.0000  \n",
       " 3rd Qu.: 0.5572   3rd Qu.: 0.5351   3rd Qu.: 0.5352   3rd Qu.: 0.4627  \n",
       " Max.   : 2.3954   Max.   : 1.3703   Max.   : 2.1656   Max.   : 2.6380  \n",
       " NA's   :91        NA's   :649       NA's   :91        NA's   :866      \n",
       "      F18               F19               F20                F21         \n",
       " Min.   :-2.2237   Min.   :-1.9519   Min.   :-0.66309   Min.   :-2.9093  \n",
       " 1st Qu.:-0.5422   1st Qu.:-0.6336   1st Qu.:-0.57637   1st Qu.:-0.5190  \n",
       " Median : 0.0007   Median :-0.0939   Median :-0.38442   Median : 0.0157  \n",
       " Mean   : 0.0000   Mean   : 0.0000   Mean   : 0.00000   Mean   : 0.0000  \n",
       " 3rd Qu.: 0.5654   3rd Qu.: 0.6093   3rd Qu.: 0.07505   3rd Qu.: 0.5220  \n",
       " Max.   : 1.9514   Max.   : 2.0716   Max.   : 3.49741   Max.   : 3.0058  \n",
       " NA's   :696       NA's   :863                          NA's   :719      \n",
       "      F22               F23              F24        \n",
       " Min.   :-4.8446   Min.   :-5.986   Min.   :-6.227  \n",
       " 1st Qu.:-0.4941   1st Qu.:-0.469   1st Qu.:-0.495  \n",
       " Median : 0.0532   Median : 0.069   Median : 0.072  \n",
       " Mean   : 0.0000   Mean   : 0.000   Mean   : 0.000  \n",
       " 3rd Qu.: 0.5502   3rd Qu.: 0.547   3rd Qu.: 0.563  \n",
       " Max.   : 5.0233   Max.   : 5.635   Max.   : 5.560  \n",
       " NA's   :2155      NA's   :4298     NA's   :8517    "
      ]
     },
     "metadata": {},
     "output_type": "display_data"
    }
   ],
   "source": [
    "summary(data_train)"
   ]
  },
  {
   "cell_type": "markdown",
   "metadata": {},
   "source": [
    "- ## Model 1"
   ]
  },
  {
   "cell_type": "markdown",
   "metadata": {},
   "source": [
    "- ### Univariate Regressions\n",
    "#### Elementary study of the predictive power of each single variable through univariate regressions.\n",
    "#### And we can check whether their performance in the multi-variate regressions meet our expectation (observations here)."
   ]
  },
  {
   "cell_type": "code",
   "execution_count": 241,
   "metadata": {
    "collapsed": true
   },
   "outputs": [
    {
     "data": {
      "image/png": "[encoded data removed]",
      "text/plain": [
       "Plot with title \"t stats of Univariate Regressions\""
      ]
     },
     "metadata": {},
     "output_type": "display_data"
    }
   ],
   "source": [
    "# List contains names of independent variables\n",
    "factor_str_list = c()\n",
    "for (i in c(1:24)) {\n",
    "    factor_str_list = c(factor_str_list, paste('F', str_pad(as.character(i), 2, side = 'left', pad = '0'), sep=''))\n",
    "}\n",
    "\n",
    "# Matrix to store t values\n",
    "tstat <- matrix(NA, 24, 1)\n",
    "colnames(tstat) <- \"t_stat\"\n",
    "rownames(tstat) <- factor_str_list\n",
    "\n",
    "for (i in c(1:24)) {\n",
    "    factor_string = factor_str_list[i]\n",
    "    data_train[['x']] = data_train[[factor_string]]\n",
    "    tstat[i,1] <- summary(lm(fwd_returns ~ x, na.action = na.exclude, data_train))$coef[2,3]\n",
    "}\n",
    "\n",
    "# Plot t_stats\n",
    "barplot(tstat[,1], ylab = \"tstat\", xlab = \"Factors\", main = \"t stats of Univariate Regressions\")\n",
    "abline(h = c(-1.96, 1.96), lty = 2)"
   ]
  },
  {
   "cell_type": "markdown",
   "metadata": {},
   "source": [
    "- ### Multi-variate Regressions\n",
    "#### Take the interaction of factors into account"
   ]
  },
  {
   "cell_type": "code",
   "execution_count": 247,
   "metadata": {},
   "outputs": [],
   "source": [
    "data_train <- data_train[, c(1:27)] # remove useless columns"
   ]
  },
  {
   "cell_type": "code",
   "execution_count": 248,
   "metadata": {
    "collapsed": true
   },
   "outputs": [
    {
     "data": {
      "text/plain": [
       "\n",
       "Call:\n",
       "lm(formula = fwd_returns ~ ., data = data_train[, c(3:27)], na.action = na.exclude)\n",
       "\n",
       "Residuals:\n",
       "    Min      1Q  Median      3Q     Max \n",
       "-3.6917 -0.5250  0.0286  0.5408  3.7404 \n",
       "\n",
       "Coefficients:\n",
       "              Estimate Std. Error t value Pr(>|t|)    \n",
       "(Intercept)  2.584e-02  2.532e-02   1.021  0.30738    \n",
       "F01         -3.614e-03  7.817e-03  -0.462  0.64383    \n",
       "F02          9.325e-06  2.197e-03   0.004  0.99661    \n",
       "F03         -1.170e-02  1.323e-02  -0.884  0.37652    \n",
       "F04         -1.947e-02  1.117e-02  -1.743  0.08139 .  \n",
       "F05          6.465e-02  1.552e-02   4.166 3.11e-05 ***\n",
       "F06         -2.240e-01  1.427e-02 -15.700  < 2e-16 ***\n",
       "F07          5.792e-03  1.219e-02   0.475  0.63460    \n",
       "F08         -3.976e-04  5.528e-03  -0.072  0.94266    \n",
       "F09          1.090e-02  1.832e-02   0.595  0.55182    \n",
       "F10         -2.774e-03  1.029e-02  -0.270  0.78739    \n",
       "F11         -3.196e-03  4.108e-03  -0.778  0.43659    \n",
       "F12         -1.678e-02  5.947e-03  -2.821  0.00479 ** \n",
       "F13          6.830e-02  6.844e-03   9.979  < 2e-16 ***\n",
       "F14          1.984e-02  6.221e-03   3.190  0.00143 ** \n",
       "F15         -3.171e-02  1.494e-02  -2.123  0.03373 *  \n",
       "F16          2.352e-02  1.292e-02   1.821  0.06867 .  \n",
       "F17          9.376e-03  5.669e-03   1.654  0.09819 .  \n",
       "F18         -1.998e-02  1.259e-02  -1.586  0.11266    \n",
       "F19          2.407e-02  1.663e-02   1.447  0.14794    \n",
       "F20          7.434e-03  1.583e-02   0.470  0.63869    \n",
       "F21          2.804e-01  1.551e-02  18.071  < 2e-16 ***\n",
       "F22          7.484e-02  8.747e-03   8.556  < 2e-16 ***\n",
       "F23         -9.831e-02  9.570e-03 -10.272  < 2e-16 ***\n",
       "F24         -2.731e-02  1.857e-02  -1.471  0.14143    \n",
       "---\n",
       "Signif. codes:  0 '***' 0.001 '**' 0.01 '*' 0.05 '.' 0.1 ' ' 1\n",
       "\n",
       "Residual standard error: 0.9855 on 35703 degrees of freedom\n",
       "  (18376 observations deleted due to missingness)\n",
       "Multiple R-squared:  0.02124,\tAdjusted R-squared:  0.02058 \n",
       "F-statistic: 32.28 on 24 and 35703 DF,  p-value: < 2.2e-16\n"
      ]
     },
     "metadata": {},
     "output_type": "display_data"
    }
   ],
   "source": [
    "# First, start from putting all factors into the multi-variate regression\n",
    "summary(lm(fwd_returns ~ ., na.action = na.exclude, data_train[, c(3:27)]))"
   ]
  },
  {
   "cell_type": "markdown",
   "metadata": {},
   "source": [
    "- #### Feature Selection"
   ]
  },
  {
   "cell_type": "code",
   "execution_count": 249,
   "metadata": {
    "collapsed": true
   },
   "outputs": [
    {
     "data": {
      "text/plain": [
       "\n",
       "Call:\n",
       "lm(formula = fwd_returns ~ ., data = data_train1[, c(3:12)], \n",
       "    na.action = na.exclude)\n",
       "\n",
       "Residuals:\n",
       "    Min      1Q  Median      3Q     Max \n",
       "-3.8308 -0.5209  0.0300  0.5378  3.7391 \n",
       "\n",
       "Coefficients:\n",
       "              Estimate Std. Error t value Pr(>|t|)    \n",
       "(Intercept) -0.0020319  0.0045426  -0.447    0.655    \n",
       "F05          0.0428651  0.0059437   7.212  5.6e-13 ***\n",
       "F06         -0.1766318  0.0119193 -14.819  < 2e-16 ***\n",
       "F12         -0.0057947  0.0048350  -1.198    0.231    \n",
       "F13          0.0460021  0.0051025   9.016  < 2e-16 ***\n",
       "F14          0.0038076  0.0046583   0.817    0.414    \n",
       "F15          0.0006425  0.0048765   0.132    0.895    \n",
       "F21          0.2345260  0.0127018  18.464  < 2e-16 ***\n",
       "F22          0.0675040  0.0074245   9.092  < 2e-16 ***\n",
       "F23         -0.0999096  0.0076771 -13.014  < 2e-16 ***\n",
       "---\n",
       "Signif. codes:  0 '***' 0.001 '**' 0.01 '*' 0.05 '.' 0.1 ' ' 1\n",
       "\n",
       "Residual standard error: 1.004 on 49044 degrees of freedom\n",
       "  (5050 observations deleted due to missingness)\n",
       "Multiple R-squared:  0.01453,\tAdjusted R-squared:  0.01434 \n",
       "F-statistic: 80.32 on 9 and 49044 DF,  p-value: < 2.2e-16\n"
      ]
     },
     "metadata": {},
     "output_type": "display_data"
    },
    {
     "data": {
      "text/plain": [
       "\n",
       "Call:\n",
       "lm(formula = fwd_returns ~ ., data = data_train1[, c(3:9)], na.action = na.exclude)\n",
       "\n",
       "Residuals:\n",
       "    Min      1Q  Median      3Q     Max \n",
       "-3.7711 -0.5231  0.0294  0.5391  3.7393 \n",
       "\n",
       "Coefficients:\n",
       "             Estimate Std. Error t value Pr(>|t|)    \n",
       "(Intercept) -0.002984   0.004540  -0.657    0.511    \n",
       "F05          0.038822   0.005688   6.825  8.9e-12 ***\n",
       "F06         -0.170560   0.011806 -14.447  < 2e-16 ***\n",
       "F13          0.042622   0.004728   9.015  < 2e-16 ***\n",
       "F21          0.226936   0.012572  18.051  < 2e-16 ***\n",
       "F22          0.064519   0.007385   8.736  < 2e-16 ***\n",
       "F23         -0.094545   0.007604 -12.434  < 2e-16 ***\n",
       "---\n",
       "Signif. codes:  0 '***' 0.001 '**' 0.01 '*' 0.05 '.' 0.1 ' ' 1\n",
       "\n",
       "Residual standard error: 1.008 on 49491 degrees of freedom\n",
       "  (4606 observations deleted due to missingness)\n",
       "Multiple R-squared:  0.01351,\tAdjusted R-squared:  0.01339 \n",
       "F-statistic: 112.9 on 6 and 49491 DF,  p-value: < 2.2e-16\n"
      ]
     },
     "metadata": {},
     "output_type": "display_data"
    }
   ],
   "source": [
    "# Manual selection\n",
    "data_train1 <- data_train[, c(1:3, 8:9, 15:18, 24:26)]\n",
    "summary(lm(fwd_returns ~ ., na.action = na.exclude, data_train1[, c(3:12)]))\n",
    "data_train1 <- data_train1[, c(1:5, 7, 10:12)]\n",
    "summary(lm(fwd_returns ~ ., na.action = na.exclude, data_train1[, c(3:9)])) # F05, F06, F13, F21, F22, F23 remain to be significant"
   ]
  },
  {
   "cell_type": "code",
   "execution_count": null,
   "metadata": {
    "collapsed": true
   },
   "outputs": [],
   "source": [
    "# Due to time limit, manual selection is used here. Otherwise, we can also try stepwise methods based on AIC/SIC criteria, and Lasso. \n",
    "# Ridge regression can also be used to deal with possible multi-collinearity"
   ]
  },
  {
   "cell_type": "code",
   "execution_count": 336,
   "metadata": {},
   "outputs": [
    {
     "data": {
      "text/html": [
       "<table>\n",
       "<thead><tr><th scope=col>stock</th><th scope=col>date</th><th scope=col>fwd_returns</th><th scope=col>fwd_returns_predict</th><th scope=col>fwd_returns_train</th></tr></thead>\n",
       "<tbody>\n",
       "\t<tr><td>S001       </td><td>D064       </td><td>-0.2203888 </td><td>-0.01124293</td><td>-0.01325843</td></tr>\n",
       "\t<tr><td>S001       </td><td>D065       </td><td>-1.2982949 </td><td>-0.03257384</td><td>-0.12074869</td></tr>\n",
       "\t<tr><td>S001       </td><td>D066       </td><td> 0.1572769 </td><td>-0.06944440</td><td> 0.02440291</td></tr>\n",
       "\t<tr><td>S001       </td><td>D067       </td><td>-1.2589701 </td><td>-0.01878417</td><td>-0.11682717</td></tr>\n",
       "\t<tr><td>S001       </td><td>D068       </td><td>-2.9212927 </td><td>-0.07015031</td><td>-0.28259623</td></tr>\n",
       "\t<tr><td>S001       </td><td>D069       </td><td> 3.0047056 </td><td>-0.27743444</td><td> 0.30835237</td></tr>\n",
       "</tbody>\n",
       "</table>\n"
      ],
      "text/latex": [
       "\\begin{tabular}{r|lllll}\n",
       " stock & date & fwd\\_returns & fwd\\_returns\\_predict & fwd\\_returns\\_train\\\\\n",
       "\\hline\n",
       "\t S001        & D064        & -0.2203888  & -0.01124293 & -0.01325843\\\\\n",
       "\t S001        & D065        & -1.2982949  & -0.03257384 & -0.12074869\\\\\n",
       "\t S001        & D066        &  0.1572769  & -0.06944440 &  0.02440291\\\\\n",
       "\t S001        & D067        & -1.2589701  & -0.01878417 & -0.11682717\\\\\n",
       "\t S001        & D068        & -2.9212927  & -0.07015031 & -0.28259623\\\\\n",
       "\t S001        & D069        &  3.0047056  & -0.27743444 &  0.30835237\\\\\n",
       "\\end{tabular}\n"
      ],
      "text/markdown": [
       "\n",
       "stock | date | fwd_returns | fwd_returns_predict | fwd_returns_train | \n",
       "|---|---|---|---|---|---|\n",
       "| S001        | D064        | -0.2203888  | -0.01124293 | -0.01325843 | \n",
       "| S001        | D065        | -1.2982949  | -0.03257384 | -0.12074869 | \n",
       "| S001        | D066        |  0.1572769  | -0.06944440 |  0.02440291 | \n",
       "| S001        | D067        | -1.2589701  | -0.01878417 | -0.11682717 | \n",
       "| S001        | D068        | -2.9212927  | -0.07015031 | -0.28259623 | \n",
       "| S001        | D069        |  3.0047056  | -0.27743444 |  0.30835237 | \n",
       "\n",
       "\n"
      ],
      "text/plain": [
       "  stock date fwd_returns fwd_returns_predict fwd_returns_train\n",
       "1 S001  D064 -0.2203888  -0.01124293         -0.01325843      \n",
       "2 S001  D065 -1.2982949  -0.03257384         -0.12074869      \n",
       "3 S001  D066  0.1572769  -0.06944440          0.02440291      \n",
       "4 S001  D067 -1.2589701  -0.01878417         -0.11682717      \n",
       "5 S001  D068 -2.9212927  -0.07015031         -0.28259623      \n",
       "6 S001  D069  3.0047056  -0.27743444          0.30835237      "
      ]
     },
     "metadata": {},
     "output_type": "display_data"
    },
    {
     "data": {
      "text/html": [
       "<ol class=list-inline>\n",
       "\t<li>49498</li>\n",
       "\t<li>5</li>\n",
       "</ol>\n"
      ],
      "text/latex": [
       "\\begin{enumerate*}\n",
       "\\item 49498\n",
       "\\item 5\n",
       "\\end{enumerate*}\n"
      ],
      "text/markdown": [
       "1. 49498\n",
       "2. 5\n",
       "\n",
       "\n"
      ],
      "text/plain": [
       "[1] 49498     5"
      ]
     },
     "metadata": {},
     "output_type": "display_data"
    },
    {
     "data": {
      "text/html": [
       "79"
      ],
      "text/latex": [
       "79"
      ],
      "text/markdown": [
       "79"
      ],
      "text/plain": [
       "[1] 79"
      ]
     },
     "metadata": {},
     "output_type": "display_data"
    }
   ],
   "source": [
    "# Prediction\n",
    "lm1 <- lm(fwd_returns ~ ., na.action = na.exclude, data_train1[, c(3:9)])\n",
    "\n",
    "predict_ret <- function(model, factors, data, org_fwd_ret){\n",
    "    predict1 <- predict(model, factors)\n",
    "    prediction_data <- data[, c(1:3)]\n",
    "    prediction_data[[\"fwd_returns_predict\"]] <- predict1\n",
    "    prediction_data[[org_fwd_ret]] <- get(org_fwd_ret)\n",
    "    prediction_data <- prediction_data[! is.na(fwd_returns_predict),]\n",
    "    \n",
    "    return (prediction_data)\n",
    "}\n",
    "\n",
    "IS_factors1 <- data_train1[, c(4:9)]\n",
    "prediction_data1 <- predict_ret(lm1, IS_factors1, data_train1, \"fwd_returns_train\")\n",
    "head(prediction_data1)\n",
    "dim(prediction_data1)\n",
    "length(unique(prediction_data1$date))"
   ]
  },
  {
   "cell_type": "markdown",
   "metadata": {},
   "source": [
    "- ## Model 2"
   ]
  },
  {
   "cell_type": "code",
   "execution_count": null,
   "metadata": {
    "collapsed": true
   },
   "outputs": [],
   "source": [
    "# Use industry-ranked variables instead of raw variables, considering some variables may have different performance/nature \n",
    "# for different industires\n",
    "# Code to rank variables within the sector category that the stock belongs to:\n",
    "# data_train[, var_sec_ranked := rank(var, na.last = \"keep\")/ max(rank(var, na.last = \"keep\"), na.rm = T) - 0.5, by = list(date, F02)]\n",
    "\n",
    "# The remaining process for predictive modeling and backtesing should be very similar to that of model 1"
   ]
  },
  {
   "cell_type": "markdown",
   "metadata": {},
   "source": [
    "## 1.2 Robustness Check"
   ]
  },
  {
   "cell_type": "markdown",
   "metadata": {},
   "source": [
    "- ### By Sector"
   ]
  },
  {
   "cell_type": "markdown",
   "metadata": {},
   "source": [
    "- ### By Year\n",
    "#### Given the nature of this particular data set, we can regard 12 consecutive month as a year unit.\n",
    "#### The year defined here may not start from January, but still covers the full cycle of a year, so that any seasonality (or other calendar related patterns) of the strategies' performance will still be taken care of."
   ]
  },
  {
   "cell_type": "markdown",
   "metadata": {},
   "source": [
    "- ### Orthogonalized Against Common Risk Factors (Eg. BARRA Factors) To See If Our Factors Add Any Marginal Value"
   ]
  },
  {
   "cell_type": "markdown",
   "metadata": {},
   "source": [
    "# 2. Model Selection"
   ]
  },
  {
   "cell_type": "markdown",
   "metadata": {},
   "source": [
    "## 2.1  In-Sample Backtest for Single Strategies"
   ]
  },
  {
   "cell_type": "markdown",
   "metadata": {},
   "source": [
    "### Compare in-sample performance of different strategies"
   ]
  },
  {
   "cell_type": "code",
   "execution_count": 361,
   "metadata": {},
   "outputs": [
    {
     "name": "stdout",
     "output_type": "stream",
     "text": [
      "Average number of stocks in the whole market per day:\n",
      "[1] 627.1516\n"
     ]
    }
   ],
   "source": [
    "decide_long_short <- function(prediction_data){\n",
    "    prediction_data <- prediction_data[, num_of_stock_on_mkt := .N, by = date]\n",
    "    # Avg 627 stock per day, thus we can rank the market by predicted fwd_ret, then long the top 10% and short the bottom 10%\n",
    "    cat(\"Average number of stocks in the whole market per day:\\n\")\n",
    "    print(mean(prediction_data[[\"num_of_stock_on_mkt\"]]))\n",
    "    # Rank the whole mkt on each day, the range of ranking is [-0.5, 0.5]\n",
    "    prediction_data <- prediction_data[, fwd_return_predict_mkt_rank := rank(fwd_returns_predict, na.last = \"keep\")/ \n",
    "                                         max(rank(fwd_returns_predict, na.last = \"keep\"), na.rm = T) - 0.5, by = date]\n",
    "    prediction_data <- prediction_data[, short_or_long := ifelse(fwd_return_predict_mkt_rank >= 0.4, 1, \n",
    "                                                                   ifelse(fwd_return_predict_mkt_rank <= -0.4, -1, 0))]\n",
    "    return (prediction_data)\n",
    "}\n",
    "\n",
    "prediction_data1 <- decide_long_short(prediction_data1)"
   ]
  },
  {
   "cell_type": "code",
   "execution_count": 308,
   "metadata": {},
   "outputs": [
    {
     "data": {
      "text/html": [
       "<table>\n",
       "<thead><tr><th scope=col>stock</th><th scope=col>date</th><th scope=col>fwd_returns</th><th scope=col>fwd_returns_predict</th><th scope=col>fwd_returns_train</th><th scope=col>num_of_stock_on_mkt</th><th scope=col>fwd_return_predict_mkt_rank</th><th scope=col>short_or_long</th><th scope=col>num_of_long</th><th scope=col>num_of_short</th><th scope=col>portfolio_monthly_ret</th><th scope=col>log_portfolio_monthly_ret</th></tr></thead>\n",
       "<tbody>\n",
       "\t<tr><td>S001       </td><td>D064       </td><td>-0.2203888 </td><td>-0.01124293</td><td>-0.01325843</td><td>613        </td><td> 0.20636215</td><td> 0         </td><td>62         </td><td>61         </td><td> 0.02345413</td><td> 0.02318330</td></tr>\n",
       "\t<tr><td>S001       </td><td>D065       </td><td>-1.2982949 </td><td>-0.03257384</td><td>-0.12074869</td><td>610        </td><td> 0.06065574</td><td> 0         </td><td>62         </td><td>61         </td><td> 0.02850957</td><td> 0.02811073</td></tr>\n",
       "\t<tr><td>S001       </td><td>D066       </td><td> 0.1572769 </td><td>-0.06944440</td><td> 0.02440291</td><td>610        </td><td> 0.01639344</td><td> 0         </td><td>62         </td><td>61         </td><td> 0.04142659</td><td> 0.04059150</td></tr>\n",
       "\t<tr><td>S001       </td><td>D067       </td><td>-1.2589701 </td><td>-0.01878417</td><td>-0.11682717</td><td>607        </td><td> 0.31054366</td><td> 0         </td><td>61         </td><td>60         </td><td>-0.04161101</td><td>-0.04250154</td></tr>\n",
       "\t<tr><td>S001       </td><td>D068       </td><td>-2.9212927 </td><td>-0.07015031</td><td>-0.28259623</td><td>605        </td><td> 0.22231405</td><td> 0         </td><td>61         </td><td>60         </td><td> 0.02997955</td><td> 0.02953895</td></tr>\n",
       "\t<tr><td>S001       </td><td>D069       </td><td> 3.0047056 </td><td>-0.27743444</td><td> 0.30835237</td><td>605        </td><td>-0.48347107</td><td>-1         </td><td>61         </td><td>60         </td><td>-0.06158898</td><td>-0.06356723</td></tr>\n",
       "</tbody>\n",
       "</table>\n"
      ],
      "text/latex": [
       "\\begin{tabular}{r|llllllllllll}\n",
       " stock & date & fwd\\_returns & fwd\\_returns\\_predict & fwd\\_returns\\_train & num\\_of\\_stock\\_on\\_mkt & fwd\\_return\\_predict\\_mkt\\_rank & short\\_or\\_long & num\\_of\\_long & num\\_of\\_short & portfolio\\_monthly\\_ret & log\\_portfolio\\_monthly\\_ret\\\\\n",
       "\\hline\n",
       "\t S001        & D064        & -0.2203888  & -0.01124293 & -0.01325843 & 613         &  0.20636215 &  0          & 62          & 61          &  0.02345413 &  0.02318330\\\\\n",
       "\t S001        & D065        & -1.2982949  & -0.03257384 & -0.12074869 & 610         &  0.06065574 &  0          & 62          & 61          &  0.02850957 &  0.02811073\\\\\n",
       "\t S001        & D066        &  0.1572769  & -0.06944440 &  0.02440291 & 610         &  0.01639344 &  0          & 62          & 61          &  0.04142659 &  0.04059150\\\\\n",
       "\t S001        & D067        & -1.2589701  & -0.01878417 & -0.11682717 & 607         &  0.31054366 &  0          & 61          & 60          & -0.04161101 & -0.04250154\\\\\n",
       "\t S001        & D068        & -2.9212927  & -0.07015031 & -0.28259623 & 605         &  0.22231405 &  0          & 61          & 60          &  0.02997955 &  0.02953895\\\\\n",
       "\t S001        & D069        &  3.0047056  & -0.27743444 &  0.30835237 & 605         & -0.48347107 & -1          & 61          & 60          & -0.06158898 & -0.06356723\\\\\n",
       "\\end{tabular}\n"
      ],
      "text/markdown": [
       "\n",
       "stock | date | fwd_returns | fwd_returns_predict | fwd_returns_train | num_of_stock_on_mkt | fwd_return_predict_mkt_rank | short_or_long | num_of_long | num_of_short | portfolio_monthly_ret | log_portfolio_monthly_ret | \n",
       "|---|---|---|---|---|---|\n",
       "| S001        | D064        | -0.2203888  | -0.01124293 | -0.01325843 | 613         |  0.20636215 |  0          | 62          | 61          |  0.02345413 |  0.02318330 | \n",
       "| S001        | D065        | -1.2982949  | -0.03257384 | -0.12074869 | 610         |  0.06065574 |  0          | 62          | 61          |  0.02850957 |  0.02811073 | \n",
       "| S001        | D066        |  0.1572769  | -0.06944440 |  0.02440291 | 610         |  0.01639344 |  0          | 62          | 61          |  0.04142659 |  0.04059150 | \n",
       "| S001        | D067        | -1.2589701  | -0.01878417 | -0.11682717 | 607         |  0.31054366 |  0          | 61          | 60          | -0.04161101 | -0.04250154 | \n",
       "| S001        | D068        | -2.9212927  | -0.07015031 | -0.28259623 | 605         |  0.22231405 |  0          | 61          | 60          |  0.02997955 |  0.02953895 | \n",
       "| S001        | D069        |  3.0047056  | -0.27743444 |  0.30835237 | 605         | -0.48347107 | -1          | 61          | 60          | -0.06158898 | -0.06356723 | \n",
       "\n",
       "\n"
      ],
      "text/plain": [
       "  stock date fwd_returns fwd_returns_predict fwd_returns_train\n",
       "1 S001  D064 -0.2203888  -0.01124293         -0.01325843      \n",
       "2 S001  D065 -1.2982949  -0.03257384         -0.12074869      \n",
       "3 S001  D066  0.1572769  -0.06944440          0.02440291      \n",
       "4 S001  D067 -1.2589701  -0.01878417         -0.11682717      \n",
       "5 S001  D068 -2.9212927  -0.07015031         -0.28259623      \n",
       "6 S001  D069  3.0047056  -0.27743444          0.30835237      \n",
       "  num_of_stock_on_mkt fwd_return_predict_mkt_rank short_or_long num_of_long\n",
       "1 613                  0.20636215                  0            62         \n",
       "2 610                  0.06065574                  0            62         \n",
       "3 610                  0.01639344                  0            62         \n",
       "4 607                  0.31054366                  0            61         \n",
       "5 605                  0.22231405                  0            61         \n",
       "6 605                 -0.48347107                 -1            61         \n",
       "  num_of_short portfolio_monthly_ret log_portfolio_monthly_ret\n",
       "1 61            0.02345413            0.02318330              \n",
       "2 61            0.02850957            0.02811073              \n",
       "3 61            0.04142659            0.04059150              \n",
       "4 60           -0.04161101           -0.04250154              \n",
       "5 60            0.02997955            0.02953895              \n",
       "6 60           -0.06158898           -0.06356723              "
      ]
     },
     "metadata": {},
     "output_type": "display_data"
    }
   ],
   "source": [
    "head(prediction_data1)"
   ]
  },
  {
   "cell_type": "code",
   "execution_count": 362,
   "metadata": {},
   "outputs": [],
   "source": [
    "# Calculate monthly portfolio returns \n",
    "cal_port_ret <- function(prediction_data){\n",
    "    # Number of stocks in long and short portfolio respectively\n",
    "    prediction_data <- prediction_data[, \":=\"(\n",
    "                                                num_of_long = sum(short_or_long == 1),\n",
    "                                                num_of_short = sum(short_or_long == -1))\n",
    "                                          , by =date]\n",
    "    # Use un-standardized fwd_ret to calculate portfolio returns.\n",
    "    # A long-short portfolio is built here, which is market neutral in the sense that equal amount of money are invested \n",
    "    # in long and short portfolios respectively.\n",
    "    # For simplicity, use equal weight within long and short portfolio respectively here.\n",
    "    # Assume the returns in this dataset are simple returns.\n",
    "\n",
    "    # Aggregate across portfolio\n",
    "    prediction_data <- prediction_data[, portfolio_monthly_ret := 1/num_of_long * sum(ifelse(short_or_long == 1, fwd_returns_train, 0)) \n",
    "                                         - 1/num_of_short * sum(ifelse(short_or_long == -1, fwd_returns_train, 0)), by = date]\n",
    "        \n",
    "    return (prediction_data)\n",
    "}\n",
    "\n",
    "prediction_data1 <- cal_port_ret(prediction_data1)"
   ]
  },
  {
   "cell_type": "code",
   "execution_count": 363,
   "metadata": {},
   "outputs": [
    {
     "data": {
      "text/html": [
       "79"
      ],
      "text/latex": [
       "79"
      ],
      "text/markdown": [
       "79"
      ],
      "text/plain": [
       "[1] 79"
      ]
     },
     "metadata": {},
     "output_type": "display_data"
    }
   ],
   "source": [
    "length(unique( prediction_data1[[\"portfolio_monthly_ret\"]]))"
   ]
  },
  {
   "cell_type": "code",
   "execution_count": 369,
   "metadata": {},
   "outputs": [
    {
     "name": "stdout",
     "output_type": "stream",
     "text": [
      "Sharpe Ratio:\n",
      "[1] 0.09835623\n",
      "\n",
      "[1] \"mean: \"              \"0.00370742408119525\"\n",
      "\n",
      "[1] \"sd: \"               \"0.0425254162524194\"\n"
     ]
    }
   ],
   "source": [
    "# Sharpe Ratio\n",
    "cal_SR <- function(prediction_data){\n",
    "    # Since market neutral portfolio has no market (systematic) risk exposure, its benchmark should be risk free rate\n",
    "    # US 10-year traesury yield is about 3% annually\n",
    "\n",
    "    # Monthly SR\n",
    "    # Transform simple returns to log returns\n",
    "    prediction_data <- prediction_data[, log_portfolio_monthly_ret := log(1 + portfolio_monthly_ret)]\n",
    "    rf = 0.03\n",
    "    ret_sd <- sd(prediction_data[[\"log_portfolio_monthly_ret\"]])\n",
    "    ret_mean <- mean(prediction_data[[\"log_portfolio_monthly_ret\"]])         \n",
    "    SR = (ret_mean - rf / 12) / ret_sd\n",
    "    # Annualize\n",
    "    SR = sqrt(12) * SR\n",
    "    cat(\"Sharpe Ratio:\\n\")\n",
    "    print(SR)\n",
    "    \n",
    "    cat(\"\\n\")\n",
    "    print(c(\"mean: \", mean(prediction_data1[[\"log_portfolio_monthly_ret\"]])))\n",
    "    cat(\"\\n\")\n",
    "    print(c(\"sd: \", sd(prediction_data1[[\"log_portfolio_monthly_ret\"]]))) \n",
    "    \n",
    "    return (prediction_data)\n",
    "}\n",
    "\n",
    "# This is a relatively high vol strategy\n",
    "prediction_data1 <- cal_SR(prediction_data1)"
   ]
  },
  {
   "cell_type": "code",
   "execution_count": 372,
   "metadata": {},
   "outputs": [
    {
     "data": {
      "image/png": "[encoded data removed]",
      "text/plain": [
       "plot without title"
      ]
     },
     "metadata": {},
     "output_type": "display_data"
    }
   ],
   "source": [
    "# Performance across time\n",
    "plot_performance <- function(prediction_data){\n",
    "    port_ret <- unique(prediction_data[,c(\"date\", \"log_portfolio_monthly_ret\")])\n",
    "    port_ret <- port_ret[order(date),]\n",
    "    port_ret <- port_ret[, cumulated_portfolio_val := 1 + cumsum(log_portfolio_monthly_ret)]\n",
    "\n",
    "    # Plot\n",
    "    plot(port_ret[[\"cumulated_portfolio_val\"]], type = \"l\", xlab = \"Time\", ylab = \"Cumulated Portfolio Value\")\n",
    "}\n",
    "\n",
    "plot_performance(prediction_data1)"
   ]
  },
  {
   "cell_type": "markdown",
   "metadata": {},
   "source": [
    "## 2.2 Combined Strategy"
   ]
  },
  {
   "cell_type": "markdown",
   "metadata": {},
   "source": [
    "### Weight Strategies by Their Sharpe Ratio"
   ]
  },
  {
   "cell_type": "markdown",
   "metadata": {},
   "source": [
    "# 3. Out of Sample Backtest"
   ]
  },
  {
   "cell_type": "markdown",
   "metadata": {},
   "source": [
    "- ## Model 1"
   ]
  },
  {
   "cell_type": "code",
   "execution_count": 351,
   "metadata": {},
   "outputs": [
    {
     "data": {
      "text/html": [
       "<ol class=list-inline>\n",
       "\t<li>'stock'</li>\n",
       "\t<li>'date'</li>\n",
       "\t<li>'fwd_returns'</li>\n",
       "\t<li>'F05'</li>\n",
       "\t<li>'F06'</li>\n",
       "\t<li>'F13'</li>\n",
       "\t<li>'F21'</li>\n",
       "\t<li>'F22'</li>\n",
       "\t<li>'F23'</li>\n",
       "\t<li>'F24'</li>\n",
       "</ol>\n"
      ],
      "text/latex": [
       "\\begin{enumerate*}\n",
       "\\item 'stock'\n",
       "\\item 'date'\n",
       "\\item 'fwd\\_returns'\n",
       "\\item 'F05'\n",
       "\\item 'F06'\n",
       "\\item 'F13'\n",
       "\\item 'F21'\n",
       "\\item 'F22'\n",
       "\\item 'F23'\n",
       "\\item 'F24'\n",
       "\\end{enumerate*}\n"
      ],
      "text/markdown": [
       "1. 'stock'\n",
       "2. 'date'\n",
       "3. 'fwd_returns'\n",
       "4. 'F05'\n",
       "5. 'F06'\n",
       "6. 'F13'\n",
       "7. 'F21'\n",
       "8. 'F22'\n",
       "9. 'F23'\n",
       "10. 'F24'\n",
       "\n",
       "\n"
      ],
      "text/plain": [
       " [1] \"stock\"       \"date\"        \"fwd_returns\" \"F05\"         \"F06\"        \n",
       " [6] \"F13\"         \"F21\"         \"F22\"         \"F23\"         \"F24\"        "
      ]
     },
     "metadata": {},
     "output_type": "display_data"
    }
   ],
   "source": [
    "# F05, F06, F13, F21, F22, F23 remain to be significant\n",
    "names(data_test1)\n",
    "data_test1 <- data_test[, c(1:3, 8:9, 16, 24:27)]"
   ]
  },
  {
   "cell_type": "code",
   "execution_count": 352,
   "metadata": {},
   "outputs": [
    {
     "data": {
      "text/html": [
       "<table>\n",
       "<thead><tr><th scope=col>stock</th><th scope=col>date</th><th scope=col>fwd_returns</th><th scope=col>fwd_returns_predict</th><th scope=col>fwd_returns_test</th></tr></thead>\n",
       "<tbody>\n",
       "\t<tr><td>S000         </td><td>D107         </td><td> 0.22727760  </td><td>-0.13749558  </td><td> 0.0313834726</td></tr>\n",
       "\t<tr><td>S000         </td><td>D108         </td><td>-0.34961428  </td><td> 0.04204611  </td><td>-0.0261449693</td></tr>\n",
       "\t<tr><td>S000         </td><td>D109         </td><td> 0.60325183  </td><td>-0.04496968  </td><td> 0.0688761340</td></tr>\n",
       "\t<tr><td>S000         </td><td>D110         </td><td> 0.52747873  </td><td>-0.04662204  </td><td> 0.0613199376</td></tr>\n",
       "\t<tr><td>S000         </td><td>D111         </td><td>-0.09071276  </td><td>-0.03482560  </td><td>-0.0003269577</td></tr>\n",
       "\t<tr><td>S000         </td><td>D112         </td><td> 0.12411207  </td><td>-0.02842655  </td><td> 0.0210956664</td></tr>\n",
       "</tbody>\n",
       "</table>\n"
      ],
      "text/latex": [
       "\\begin{tabular}{r|lllll}\n",
       " stock & date & fwd\\_returns & fwd\\_returns\\_predict & fwd\\_returns\\_test\\\\\n",
       "\\hline\n",
       "\t S000          & D107          &  0.22727760   & -0.13749558   &  0.0313834726\\\\\n",
       "\t S000          & D108          & -0.34961428   &  0.04204611   & -0.0261449693\\\\\n",
       "\t S000          & D109          &  0.60325183   & -0.04496968   &  0.0688761340\\\\\n",
       "\t S000          & D110          &  0.52747873   & -0.04662204   &  0.0613199376\\\\\n",
       "\t S000          & D111          & -0.09071276   & -0.03482560   & -0.0003269577\\\\\n",
       "\t S000          & D112          &  0.12411207   & -0.02842655   &  0.0210956664\\\\\n",
       "\\end{tabular}\n"
      ],
      "text/markdown": [
       "\n",
       "stock | date | fwd_returns | fwd_returns_predict | fwd_returns_test | \n",
       "|---|---|---|---|---|---|\n",
       "| S000          | D107          |  0.22727760   | -0.13749558   |  0.0313834726 | \n",
       "| S000          | D108          | -0.34961428   |  0.04204611   | -0.0261449693 | \n",
       "| S000          | D109          |  0.60325183   | -0.04496968   |  0.0688761340 | \n",
       "| S000          | D110          |  0.52747873   | -0.04662204   |  0.0613199376 | \n",
       "| S000          | D111          | -0.09071276   | -0.03482560   | -0.0003269577 | \n",
       "| S000          | D112          |  0.12411207   | -0.02842655   |  0.0210956664 | \n",
       "\n",
       "\n"
      ],
      "text/plain": [
       "  stock date fwd_returns fwd_returns_predict fwd_returns_test\n",
       "1 S000  D107  0.22727760 -0.13749558          0.0313834726   \n",
       "2 S000  D108 -0.34961428  0.04204611         -0.0261449693   \n",
       "3 S000  D109  0.60325183 -0.04496968          0.0688761340   \n",
       "4 S000  D110  0.52747873 -0.04662204          0.0613199376   \n",
       "5 S000  D111 -0.09071276 -0.03482560         -0.0003269577   \n",
       "6 S000  D112  0.12411207 -0.02842655          0.0210956664   "
      ]
     },
     "metadata": {},
     "output_type": "display_data"
    },
    {
     "data": {
      "text/html": [
       "<ol class=list-inline>\n",
       "\t<li>20618</li>\n",
       "\t<li>5</li>\n",
       "</ol>\n"
      ],
      "text/latex": [
       "\\begin{enumerate*}\n",
       "\\item 20618\n",
       "\\item 5\n",
       "\\end{enumerate*}\n"
      ],
      "text/markdown": [
       "1. 20618\n",
       "2. 5\n",
       "\n",
       "\n"
      ],
      "text/plain": [
       "[1] 20618     5"
      ]
     },
     "metadata": {},
     "output_type": "display_data"
    },
    {
     "data": {
      "text/html": [
       "35"
      ],
      "text/latex": [
       "35"
      ],
      "text/markdown": [
       "35"
      ],
      "text/plain": [
       "[1] 35"
      ]
     },
     "metadata": {},
     "output_type": "display_data"
    }
   ],
   "source": [
    "# Predict\n",
    "OS_factors1 <- data_test1[, c(4:9)]\n",
    "OS_prediction_data1 <- predict_ret(lm1, OS_factors1, data_test1, \"fwd_returns_test\")\n",
    "head(OS_prediction_data1)\n",
    "dim(OS_prediction_data1)\n",
    "length(unique(OS_prediction_data1$date))"
   ]
  },
  {
   "cell_type": "code",
   "execution_count": 373,
   "metadata": {},
   "outputs": [
    {
     "name": "stdout",
     "output_type": "stream",
     "text": [
      "Average number of stocks in the whole market per day:\n",
      "[1] 589.1664\n",
      "Sharpe Ratio:\n",
      "[1] 1.119053\n",
      "\n",
      "[1] \"mean: \"              \"0.00370742408119525\"\n",
      "\n",
      "[1] \"sd: \"               \"0.0425254162524194\"\n"
     ]
    },
    {
     "data": {
      "image/png": "[encoded data removed]",
      "text/plain": [
       "plot without title"
      ]
     },
     "metadata": {},
     "output_type": "display_data"
    }
   ],
   "source": [
    "# Performance\n",
    "OS_prediction_data1 <- decide_long_short(OS_prediction_data1)\n",
    "OS_prediction_data1 <- cal_port_ret(OS_prediction_data1)\n",
    "OS_prediction_data1 <- cal_SR(OS_prediction_data1)\n",
    "plot_performance(OS_prediction_data1)"
   ]
  },
  {
   "cell_type": "markdown",
   "metadata": {},
   "source": [
    "- ## Model 2"
   ]
  },
  {
   "cell_type": "markdown",
   "metadata": {},
   "source": [
    "- ## Combined Model"
   ]
  }
 ],
 "metadata": {
  "kernelspec": {
   "display_name": "R",
   "language": "R",
   "name": "ir"
  },
  "language_info": {
   "codemirror_mode": "r",
   "file_extension": ".r",
   "mimetype": "text/x-r-source",
   "name": "R",
   "pygments_lexer": "r",
   "version": "3.4.3"
  }
 },
 "nbformat": 4,
 "nbformat_minor": 2
}
