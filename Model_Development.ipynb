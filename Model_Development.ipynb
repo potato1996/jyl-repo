{
 "cells": [
  {
   "cell_type": "markdown",
   "metadata": {},
   "source": [
    "# 1. Model Development Using Training Set"
   ]
  },
  {
   "cell_type": "markdown",
   "metadata": {},
   "source": [
    "## 1.1 Model Development"
   ]
  },
  {
   "cell_type": "code",
   "execution_count": 6,
   "metadata": {},
   "outputs": [
    {
     "name": "stderr",
     "output_type": "stream",
     "text": [
      "\n",
      "Attaching package: 'zoo'\n",
      "\n",
      "The following objects are masked from 'package:base':\n",
      "\n",
      "    as.Date, as.Date.numeric\n",
      "\n",
      "\n",
      "Attaching package: 'pls'\n",
      "\n",
      "The following object is masked from 'package:stats':\n",
      "\n",
      "    loadings\n",
      "\n"
     ]
    }
   ],
   "source": [
    "library(ggplot2)\n",
    "library(data.table)\n",
    "library(zoo)\n",
    "library(plyr)\n",
    "library(pls)\n",
    "library(stringr)"
   ]
  },
  {
   "cell_type": "code",
   "execution_count": 119,
   "metadata": {},
   "outputs": [],
   "source": [
    "# Load processed data obtained from Data_Process.ipynb\n",
    "data <- fread(\"data_winsorized_withoutNAreplace.csv\")"
   ]
  },
  {
   "cell_type": "code",
   "execution_count": 120,
   "metadata": {},
   "outputs": [],
   "source": [
    "# Generate Momentum Factors\n",
    "data <- data[, ctmp_returns := shift(fwd_returns, 1), by = stock]\n",
    "data <- data[, len := .N, by = stock]\n",
    "data <- data[, \":=\"(\n",
    "            # Return of the most recent past month\n",
    "            F21 = ctmp_returns, \n",
    "            # MA of past 3 months' returns\n",
    "            F22 = ifelse(len >= 3, rollapply(ctmp_returns, 3, mean, fill = NA, align = \"right\"), as.numeric(NA)), \n",
    "            # MA of past 6 months' returns\n",
    "            F23 = ifelse(len >= 6, rollapply(ctmp_returns, 6, mean, fill = NA, align = \"right\"), as.numeric(NA)), \n",
    "            # MA of past 12 months' returns\n",
    "            F24 = ifelse(len >= 12, rollapply(ctmp_returns, 12, mean, fill = NA, align = \"right\"), as.numeric(NA))\n",
    "), by = stock]"
   ]
  },
  {
   "cell_type": "code",
   "execution_count": 127,
   "metadata": {},
   "outputs": [],
   "source": [
    "## Split into test/training set\n",
    "# Since we are analyzing time series, for simplicity, take the observations on the first 70% days as training set,\n",
    "# and the observations on the remaining 30% days as test set\n",
    "split_date = length(unique(data$date)) * 0.7 # 84 out of 120 days\n",
    "data_train <- data[as.numeric(substr(date, 2, 4)) <= split_date,]\n",
    "data_test <- data[as.numeric(substr(date, 2, 4)) > split_date,]\n",
    "\n",
    "# Order by date and stock\n",
    "data_train <- data_train[order(stock, date),]\n",
    "data_test <- data_test[order(stock, date),]"
   ]
  },
  {
   "cell_type": "code",
   "execution_count": 130,
   "metadata": {
    "collapsed": true
   },
   "outputs": [
    {
     "name": "stdout",
     "output_type": "stream",
     "text": [
      "date \n",
      "data_nm1:\n",
      "   Length     Class      Mode \n",
      "    74855 character character \n",
      "data_nm2:\n",
      "   Length     Class      Mode \n",
      "    54104 character character \n",
      "\n",
      "fwd_returns \n",
      "data_nm1:\n",
      "    Min.  1st Qu.   Median     Mean  3rd Qu.     Max. \n",
      "-28.2596  -3.8840   1.0417   0.9219   5.7935  30.8352 \n",
      "data_nm2:\n",
      "    Min.  1st Qu.   Median     Mean  3rd Qu.     Max. \n",
      "-28.2596  -4.2955   1.0121   0.8719   6.0889  30.8352 \n",
      "\n",
      "F01 \n",
      "data_nm1:\n",
      "   Min. 1st Qu.  Median    Mean 3rd Qu.    Max.    NA's \n",
      " 0.2681  0.8650  1.5891  2.1758  2.8376  7.1494     606 \n",
      "data_nm2:\n",
      "   Min. 1st Qu.  Median    Mean 3rd Qu.    Max.    NA's \n",
      " 0.2681  0.8082  1.4773  2.0759  2.6912  7.1494     512 \n",
      "\n",
      "F02 \n",
      "data_nm1:\n",
      "   Min. 1st Qu.  Median    Mean 3rd Qu.    Max.    NA's \n",
      "  0.000   2.000   3.000   3.775   5.000   9.000     202 \n",
      "data_nm2:\n",
      "   Min. 1st Qu.  Median    Mean 3rd Qu.    Max.    NA's \n",
      "  0.000   2.000   3.000   3.805   6.000   9.000     143 \n",
      "\n",
      "F03 \n",
      "data_nm1:\n",
      "   Min. 1st Qu.  Median    Mean 3rd Qu.    Max.    NA's \n",
      "   1703    4887    9986   18630   21260   90166     439 \n",
      "data_nm2:\n",
      "   Min. 1st Qu.  Median    Mean 3rd Qu.    Max.    NA's \n",
      "   1703    4366    8628   16583   18212   90166     388 \n",
      "\n",
      "F04 \n",
      "data_nm1:\n",
      "   Min. 1st Qu.  Median    Mean 3rd Qu.    Max.    NA's \n",
      " 0.8247  1.6057  2.6042  3.3747  4.2322 10.3306    2631 \n",
      "data_nm2:\n",
      "   Min. 1st Qu.  Median    Mean 3rd Qu.    Max.    NA's \n",
      " 0.8247  1.5604  2.5053  3.2316  4.0118 10.3306    1852 \n",
      "\n",
      "F05 \n",
      "data_nm1:\n",
      "   Min. 1st Qu.  Median    Mean 3rd Qu.    Max.    NA's \n",
      "-43.738  -6.963  11.280  11.837  29.581  73.518     701 \n",
      "data_nm2:\n",
      "   Min. 1st Qu.  Median    Mean 3rd Qu.    Max.    NA's \n",
      "-43.738 -11.444   8.358   9.477  28.258  73.518     573 \n",
      "\n",
      "F06 \n",
      "data_nm1:\n",
      "    Min.  1st Qu.   Median     Mean  3rd Qu.     Max.     NA's \n",
      "-14.6490  -4.0685   0.8978   0.7849   5.6170  16.2793       56 \n",
      "data_nm2:\n",
      "    Min.  1st Qu.   Median     Mean  3rd Qu.     Max.     NA's \n",
      "-14.6490  -4.4593   0.8095   0.6852   5.7797  16.2793       44 \n",
      "\n",
      "F07 \n",
      "data_nm1:\n",
      "   Min. 1st Qu.  Median    Mean 3rd Qu.    Max.    NA's \n",
      "  0.000   0.276   0.597   0.956   1.197   4.158    5391 \n",
      "data_nm2:\n",
      "   Min. 1st Qu.  Median    Mean 3rd Qu.    Max.    NA's \n",
      "  0.000   0.250   0.568   0.933   1.185   4.158    3914 \n",
      "\n",
      "F08 \n",
      "data_nm1:\n",
      "   Min. 1st Qu.  Median    Mean 3rd Qu.    Max.    NA's \n",
      " -0.181  -0.080  -0.039  -0.041  -0.001   0.094   13868 \n",
      "data_nm2:\n",
      "   Min. 1st Qu.  Median    Mean 3rd Qu.    Max.    NA's \n",
      " -0.181  -0.081  -0.038  -0.041   0.000   0.094   10213 \n",
      "\n",
      "F09 \n",
      "data_nm1:\n",
      "   Min. 1st Qu.  Median    Mean 3rd Qu.    Max.    NA's \n",
      "-15.076   7.746  13.954  14.612  21.332  44.519    2934 \n",
      "data_nm2:\n",
      "   Min. 1st Qu.  Median    Mean 3rd Qu.    Max.    NA's \n",
      "-15.076   7.647  14.009  14.373  21.323  44.519    2112 \n",
      "\n",
      "F10 \n",
      "data_nm1:\n",
      "   Min. 1st Qu.  Median    Mean 3rd Qu.    Max.    NA's \n",
      "  0.624   5.340  14.857  20.837  32.727  64.651   13144 \n",
      "data_nm2:\n",
      "   Min. 1st Qu.  Median    Mean 3rd Qu.    Max.    NA's \n",
      "  0.624   4.900  14.179  20.250  31.697  64.651    9820 \n",
      "\n",
      "F11 \n",
      "data_nm1:\n",
      "   Min. 1st Qu.  Median    Mean 3rd Qu.    Max. \n",
      "  0.000   4.000   5.000   5.395   7.000   9.000 \n",
      "data_nm2:\n",
      "   Min. 1st Qu.  Median    Mean 3rd Qu.    Max. \n",
      "   0.00    4.00    5.00    5.36    7.00    9.00 \n",
      "\n",
      "F12 \n",
      "data_nm1:\n",
      "   Min. 1st Qu.  Median    Mean 3rd Qu.    Max.    NA's \n",
      "-160.00  -18.18   10.64   20.52   42.86  270.39     498 \n",
      "data_nm2:\n",
      "   Min. 1st Qu.  Median    Mean 3rd Qu.    Max.    NA's \n",
      "-160.00  -19.23   11.76   21.33   45.95  270.39     452 \n",
      "\n",
      "F13 \n",
      "data_nm1:\n",
      "   Min. 1st Qu.  Median    Mean 3rd Qu.    Max.    NA's \n",
      " 0.9639  1.3475  1.8272  2.1239  2.5797  4.8236     743 \n",
      "data_nm2:\n",
      "   Min. 1st Qu.  Median    Mean 3rd Qu.    Max.    NA's \n",
      " 0.9639  1.5057  2.0330  2.3239  2.8670  4.8236     610 \n",
      "\n",
      "F14 \n",
      "data_nm1:\n",
      "   Min. 1st Qu.  Median    Mean 3rd Qu.    Max.    NA's \n",
      "  0.000   0.000   1.337   1.716   2.679   5.877     103 \n",
      "data_nm2:\n",
      "   Min. 1st Qu.  Median    Mean 3rd Qu.    Max.    NA's \n",
      "  0.000   0.000   1.200   1.675   2.653   5.877      91 \n",
      "\n",
      "F15 \n",
      "data_nm1:\n",
      "   Min. 1st Qu.  Median    Mean 3rd Qu.    Max.    NA's \n",
      "-11.669   3.163   5.114   4.346   7.004  11.781     732 \n",
      "data_nm2:\n",
      "   Min. 1st Qu.  Median    Mean 3rd Qu.    Max.    NA's \n",
      "-11.669   3.187   5.326   4.417   7.293  11.781     649 \n",
      "\n",
      "F16 \n",
      "data_nm1:\n",
      "   Min. 1st Qu.  Median    Mean 3rd Qu.    Max.    NA's \n",
      " -2.889   5.258   7.885   8.600  11.556  21.658     103 \n",
      "data_nm2:\n",
      "   Min. 1st Qu.  Median    Mean 3rd Qu.    Max.    NA's \n",
      " -2.889   5.318   8.191   8.776  11.960  21.658      91 \n",
      "\n",
      "F17 \n",
      "data_nm1:\n",
      "   Min. 1st Qu.  Median    Mean 3rd Qu.    Max.    NA's \n",
      " 0.0502  0.0895  0.1371  0.1702  0.2212  0.4402    1094 \n",
      "data_nm2:\n",
      "   Min. 1st Qu.  Median    Mean 3rd Qu.    Max.    NA's \n",
      " 0.0502  0.0853  0.1311  0.1638  0.2123  0.4402     866 \n",
      "\n",
      "F18 \n",
      "data_nm1:\n",
      "   Min. 1st Qu.  Median    Mean 3rd Qu.    Max.    NA's \n",
      " -4.405   6.010   9.187   9.348  12.752  21.970     921 \n",
      "data_nm2:\n",
      "   Min. 1st Qu.  Median    Mean 3rd Qu.    Max.    NA's \n",
      " -4.405   6.217   9.647   9.642  13.214  21.970     696 \n",
      "\n",
      "F19 \n",
      "data_nm1:\n",
      "   Min. 1st Qu.  Median    Mean 3rd Qu.    Max.    NA's \n",
      " -7.767   4.014   8.614   9.507  14.616  28.001    1028 \n",
      "data_nm2:\n",
      "   Min. 1st Qu.  Median    Mean 3rd Qu.    Max.    NA's \n",
      " -7.767   3.952   8.750   9.585  15.001  28.001     863 \n",
      "\n",
      "F20 \n",
      "data_nm1:\n",
      "   Min. 1st Qu.  Median    Mean 3rd Qu.    Max. \n",
      "   1296    3482    7945   16491   18625   89752 \n",
      "data_nm2:\n",
      "   Min. 1st Qu.  Median    Mean 3rd Qu.    Max. \n",
      "   1296    3139    7220   15394   16989   89752 \n",
      "\n",
      "ctmp_returns \n",
      "data_nm1:\n",
      "    Min.  1st Qu.   Median     Mean  3rd Qu.     Max.     NA's \n",
      "-28.2596  -3.8600   1.0899   0.9563   5.8316  30.8352      731 \n",
      "data_nm2:\n",
      "    Min.  1st Qu.   Median     Mean  3rd Qu.     Max.     NA's \n",
      "-28.2596  -4.3792   0.9623   0.8054   6.0204  30.8352      719 \n",
      "\n",
      "len \n",
      "data_nm1:\n",
      "   Min. 1st Qu.  Median    Mean 3rd Qu.    Max. \n",
      "    1.0   120.0   120.0   113.7   120.0   120.0 \n",
      "data_nm2:\n",
      "   Min. 1st Qu.  Median    Mean 3rd Qu.    Max. \n",
      "    4.0   120.0   120.0   112.8   120.0   120.0 \n",
      "\n",
      "F21 \n",
      "data_nm1:\n",
      "    Min.  1st Qu.   Median     Mean  3rd Qu.     Max.     NA's \n",
      "-28.2596  -3.8600   1.0899   0.9563   5.8316  30.8352      731 \n",
      "data_nm2:\n",
      "    Min.  1st Qu.   Median     Mean  3rd Qu.     Max.     NA's \n",
      "-28.2596  -4.3792   0.9623   0.8054   6.0204  30.8352      719 \n",
      "\n",
      "F22 \n",
      "data_nm1:\n",
      "    Min.  1st Qu.   Median     Mean  3rd Qu.     Max.     NA's \n",
      "-28.2596  -1.7308   1.2074   0.9197   3.9359  30.8352     2189 \n",
      "data_nm2:\n",
      "    Min.  1st Qu.   Median     Mean  3rd Qu.     Max.     NA's \n",
      "-28.2596  -2.2062   1.0716   0.7527   4.0476  30.8352     2155 \n",
      "\n",
      "F23 \n",
      "data_nm1:\n",
      "   Min. 1st Qu.  Median    Mean 3rd Qu.    Max.    NA's \n",
      "-25.920  -0.923   1.219   0.933   3.133  25.808    4365 \n",
      "data_nm2:\n",
      "   Min. 1st Qu.  Median    Mean 3rd Qu.    Max.    NA's \n",
      "-25.920  -1.360   1.036   0.727   3.161  25.808    4298 \n",
      "\n",
      "F24 \n",
      "data_nm1:\n",
      "   Min. 1st Qu.  Median    Mean 3rd Qu.    Max.    NA's \n",
      "-18.692  -0.354   1.187   0.972   2.547  18.051    8645 \n",
      "data_nm2:\n",
      "   Min. 1st Qu.  Median    Mean 3rd Qu.    Max.    NA's \n",
      "-18.692  -0.823   0.944   0.719   2.475  18.051    8517 \n",
      "\n"
     ]
    }
   ],
   "source": [
    "# Check if the training set is a good representative of the full dataset\n",
    "\n",
    "# Function to compare statistics\n",
    "compare_stats <- function(data_nm1, data_nm2){\n",
    "    data1 <- get(data_nm1)\n",
    "    data2 <- get(data_nm2)\n",
    "    for (nm in colnames(data1)[2:dim(data1)[2]]){\n",
    "        cat(nm, \"\\ndata_nm1:\\n\")\n",
    "        print(summary(data1[[nm]]))\n",
    "        cat(\"data_nm2:\\n\")\n",
    "        print(summary(data2[[nm]]))\n",
    "        cat(\"\\n\")\n",
    "}}\n",
    "\n",
    "# Compare\n",
    "compare_stats(\"data\", \"data_train\")"
   ]
  },
  {
   "cell_type": "markdown",
   "metadata": {},
   "source": [
    "- ### Univariate Regressions\n",
    "#### Elementary study of the predictive power of each single variable through univariate regressions.\n",
    "#### And we can check whether their performance in the multi-variate regressions meet our expectation (observations here)."
   ]
  },
  {
   "cell_type": "code",
   "execution_count": 151,
   "metadata": {
    "scrolled": true
   },
   "outputs": [
    {
     "data": {
      "image/png": "[encoded data removed]",
      "text/plain": [
       "Plot with title \"t stats of Univariate Regressions\""
      ]
     },
     "metadata": {},
     "output_type": "display_data"
    }
   ],
   "source": [
    "# List contains names of independent variables\n",
    "factor_str_list = c()\n",
    "for (i in c(1:24)) {\n",
    "    factor_str_list = c(factor_str_list, paste('F', str_pad(as.character(i), 2, side = 'left', pad = '0'), sep=''))\n",
    "}\n",
    "\n",
    "# Matrix to store t values\n",
    "tstat <- matrix(NA, 24, 1)\n",
    "colnames(tstat) <- \"t_stat\"\n",
    "rownames(tstat) <- factor_str_list\n",
    "\n",
    "for (i in c(1:24)) {\n",
    "    factor_string = factor_str_list[i]\n",
    "    data_train[['x']] = data_train[[factor_string]]\n",
    "    tstat[i,1] <- summary(lm(fwd_returns ~ x, na.action = na.exclude, data_train))$coef[2,3]\n",
    "}\n",
    "\n",
    "# Plot t_stats\n",
    "barplot(tstat[,1], ylab = \"tstat\", xlab = \"Factors\", main = \"t stats of Univariate Regressions\")\n",
    "abline(h = c(-1.96, 1.96), lty = 2)"
   ]
  },
  {
   "cell_type": "code",
   "execution_count": 146,
   "metadata": {},
   "outputs": [
    {
     "data": {
      "text/html": [
       "<ol class=list-inline>\n",
       "\t<li>'stock'</li>\n",
       "\t<li>'date'</li>\n",
       "\t<li>'fwd_returns'</li>\n",
       "\t<li>'F01'</li>\n",
       "\t<li>'F02'</li>\n",
       "\t<li>'F03'</li>\n",
       "\t<li>'F04'</li>\n",
       "\t<li>'F05'</li>\n",
       "\t<li>'F06'</li>\n",
       "\t<li>'F07'</li>\n",
       "\t<li>'F08'</li>\n",
       "\t<li>'F09'</li>\n",
       "\t<li>'F10'</li>\n",
       "\t<li>'F11'</li>\n",
       "\t<li>'F12'</li>\n",
       "\t<li>'F13'</li>\n",
       "\t<li>'F14'</li>\n",
       "\t<li>'F15'</li>\n",
       "\t<li>'F16'</li>\n",
       "\t<li>'F17'</li>\n",
       "\t<li>'F18'</li>\n",
       "\t<li>'F19'</li>\n",
       "\t<li>'F20'</li>\n",
       "\t<li>'F21'</li>\n",
       "\t<li>'F22'</li>\n",
       "\t<li>'F23'</li>\n",
       "\t<li>'F24'</li>\n",
       "</ol>\n"
      ],
      "text/latex": [
       "\\begin{enumerate*}\n",
       "\\item 'stock'\n",
       "\\item 'date'\n",
       "\\item 'fwd\\_returns'\n",
       "\\item 'F01'\n",
       "\\item 'F02'\n",
       "\\item 'F03'\n",
       "\\item 'F04'\n",
       "\\item 'F05'\n",
       "\\item 'F06'\n",
       "\\item 'F07'\n",
       "\\item 'F08'\n",
       "\\item 'F09'\n",
       "\\item 'F10'\n",
       "\\item 'F11'\n",
       "\\item 'F12'\n",
       "\\item 'F13'\n",
       "\\item 'F14'\n",
       "\\item 'F15'\n",
       "\\item 'F16'\n",
       "\\item 'F17'\n",
       "\\item 'F18'\n",
       "\\item 'F19'\n",
       "\\item 'F20'\n",
       "\\item 'F21'\n",
       "\\item 'F22'\n",
       "\\item 'F23'\n",
       "\\item 'F24'\n",
       "\\end{enumerate*}\n"
      ],
      "text/markdown": [
       "1. 'stock'\n",
       "2. 'date'\n",
       "3. 'fwd_returns'\n",
       "4. 'F01'\n",
       "5. 'F02'\n",
       "6. 'F03'\n",
       "7. 'F04'\n",
       "8. 'F05'\n",
       "9. 'F06'\n",
       "10. 'F07'\n",
       "11. 'F08'\n",
       "12. 'F09'\n",
       "13. 'F10'\n",
       "14. 'F11'\n",
       "15. 'F12'\n",
       "16. 'F13'\n",
       "17. 'F14'\n",
       "18. 'F15'\n",
       "19. 'F16'\n",
       "20. 'F17'\n",
       "21. 'F18'\n",
       "22. 'F19'\n",
       "23. 'F20'\n",
       "24. 'F21'\n",
       "25. 'F22'\n",
       "26. 'F23'\n",
       "27. 'F24'\n",
       "\n",
       "\n"
      ],
      "text/plain": [
       " [1] \"stock\"       \"date\"        \"fwd_returns\" \"F01\"         \"F02\"        \n",
       " [6] \"F03\"         \"F04\"         \"F05\"         \"F06\"         \"F07\"        \n",
       "[11] \"F08\"         \"F09\"         \"F10\"         \"F11\"         \"F12\"        \n",
       "[16] \"F13\"         \"F14\"         \"F15\"         \"F16\"         \"F17\"        \n",
       "[21] \"F18\"         \"F19\"         \"F20\"         \"F21\"         \"F22\"        \n",
       "[26] \"F23\"         \"F24\"        "
      ]
     },
     "metadata": {},
     "output_type": "display_data"
    },
    {
     "data": {
      "text/html": [
       "<ol class=list-inline>\n",
       "\t<li>54104</li>\n",
       "\t<li>27</li>\n",
       "</ol>\n"
      ],
      "text/latex": [
       "\\begin{enumerate*}\n",
       "\\item 54104\n",
       "\\item 27\n",
       "\\end{enumerate*}\n"
      ],
      "text/markdown": [
       "1. 54104\n",
       "2. 27\n",
       "\n",
       "\n"
      ],
      "text/plain": [
       "[1] 54104    27"
      ]
     },
     "metadata": {},
     "output_type": "display_data"
    }
   ],
   "source": [
    "names(data_train)\n",
    "dim(data_train)"
   ]
  },
  {
   "cell_type": "markdown",
   "metadata": {},
   "source": [
    "- ### Multi-variate Regressions\n",
    "#### Take the interaction of factors into account"
   ]
  },
  {
   "cell_type": "code",
   "execution_count": 147,
   "metadata": {
    "collapsed": true
   },
   "outputs": [
    {
     "ename": "ERROR",
     "evalue": "Error in `[.data.table`(data_train, , c(1:23, 26:29)): Item 26 of j is 28 which is outside the column number range [1,ncol=27]\n",
     "output_type": "error",
     "traceback": [
      "Error in `[.data.table`(data_train, , c(1:23, 26:29)): Item 26 of j is 28 which is outside the column number range [1,ncol=27]\nTraceback:\n",
      "1. data_train[, c(1:23, 26:29)]",
      "2. `[.data.table`(data_train, , c(1:23, 26:29))",
      "3. stop(\"Item \", which.first(w), \" of j is \", j[which.first(w)], \n .     \" which is outside the column number range [1,ncol=\", ncol(x), \n .     \"]\")"
     ]
    }
   ],
   "source": [
    "data_train <- data_train[, c(1:23, 26:29)] # remove useless columns"
   ]
  },
  {
   "cell_type": "code",
   "execution_count": 152,
   "metadata": {},
   "outputs": [
    {
     "data": {
      "text/plain": [
       "\n",
       "Call:\n",
       "lm(formula = fwd_returns ~ ., data = data_train[, c(3:27)], na.action = na.exclude)\n",
       "\n",
       "Residuals:\n",
       "    Min      1Q  Median      3Q     Max \n",
       "-36.814  -5.235   0.286   5.393  37.300 \n",
       "\n",
       "Coefficients:\n",
       "              Estimate Std. Error t value Pr(>|t|)    \n",
       "(Intercept) -5.751e-01  3.745e-01  -1.536  0.12466    \n",
       "F01         -2.011e-02  4.350e-02  -0.462  0.64383    \n",
       "F02          9.299e-05  2.191e-02   0.004  0.99661    \n",
       "F03         -5.555e-06  6.282e-06  -0.884  0.37652    \n",
       "F04         -8.158e-02  4.681e-02  -1.743  0.08139 .  \n",
       "F05          2.087e-02  5.010e-03   4.166 3.11e-05 ***\n",
       "F06         -2.756e-01  1.755e-02 -15.700  < 2e-16 ***\n",
       "F07          5.491e-02  1.155e-01   0.475  0.63460    \n",
       "F08         -5.776e-02  8.030e-01  -0.072  0.94266    \n",
       "F09          8.087e-03  1.359e-02   0.595  0.55182    \n",
       "F10         -1.491e-03  5.527e-03  -0.270  0.78739    \n",
       "F11         -3.187e-02  4.097e-02  -0.778  0.43659    \n",
       "F12         -1.804e-03  6.393e-04  -2.821  0.00479 ** \n",
       "F13          6.309e-01  6.322e-02   9.979  < 2e-16 ***\n",
       "F14          1.128e-01  3.537e-02   3.190  0.00143 ** \n",
       "F15         -5.885e-02  2.771e-02  -2.123  0.03373 *  \n",
       "F16          3.943e-02  2.166e-02   1.821  0.06867 .  \n",
       "F17          8.925e-01  5.397e-01   1.654  0.09819 .  \n",
       "F18         -3.153e-02  1.988e-02  -1.586  0.11266    \n",
       "F19          2.700e-02  1.866e-02   1.447  0.14794    \n",
       "F20          3.487e-06  7.426e-06   0.470  0.63869    \n",
       "F21          2.799e-01  1.549e-02  18.071  < 2e-16 ***\n",
       "F22          1.246e-01  1.457e-02   8.556  < 2e-16 ***\n",
       "F23         -2.202e-01  2.144e-02 -10.272  < 2e-16 ***\n",
       "F24         -8.736e-02  5.941e-02  -1.471  0.14143    \n",
       "---\n",
       "Signif. codes:  0 '***' 0.001 '**' 0.01 '*' 0.05 '.' 0.1 ' ' 1\n",
       "\n",
       "Residual standard error: 9.828 on 35703 degrees of freedom\n",
       "  (18376 observations deleted due to missingness)\n",
       "Multiple R-squared:  0.02124,\tAdjusted R-squared:  0.02058 \n",
       "F-statistic: 32.28 on 24 and 35703 DF,  p-value: < 2.2e-16\n"
      ]
     },
     "metadata": {},
     "output_type": "display_data"
    }
   ],
   "source": [
    "# First, start from putting all factors into the multi-variate regression\n",
    "summary(lm(fwd_returns ~ ., na.action = na.exclude, data_train[, c(3:27)]))"
   ]
  },
  {
   "cell_type": "markdown",
   "metadata": {},
   "source": [
    "- #### Feature Selection"
   ]
  },
  {
   "cell_type": "code",
   "execution_count": null,
   "metadata": {
    "collapsed": true
   },
   "outputs": [],
   "source": [
    "# Manual selection\n",
    "data_train1 <- data_train[, c(1:3, 8:9, 15:18, 24:26)]\n"
   ]
  },
  {
   "cell_type": "code",
   "execution_count": null,
   "metadata": {
    "collapsed": true
   },
   "outputs": [],
   "source": [
    "# Due to time limit, lasso regression is used here. Otherwise, we can also try stepwise methods based on AIC/SIC criteria\n",
    "# Lasso"
   ]
  },
  {
   "cell_type": "code",
   "execution_count": 150,
   "metadata": {},
   "outputs": [
    {
     "data": {
      "text/html": [
       "<table>\n",
       "<thead><tr><th scope=col>stock</th><th scope=col>date</th><th scope=col>fwd_returns</th><th scope=col>F05</th><th scope=col>F06</th><th scope=col>F12</th><th scope=col>F13</th><th scope=col>F14</th><th scope=col>F15</th><th scope=col>F21</th><th scope=col>F22</th><th scope=col>F23</th></tr></thead>\n",
       "<tbody>\n",
       "\t<tr><td>S001      </td><td>D052      </td><td>-20.313901</td><td>NA        </td><td>        NA</td><td>      NA  </td><td>NA        </td><td>0         </td><td>NA        </td><td>        NA</td><td>      NA  </td><td>NA        </td></tr>\n",
       "\t<tr><td>S001      </td><td>D053      </td><td> -9.116488</td><td>NA        </td><td>-14.648974</td><td>      NA  </td><td>NA        </td><td>0         </td><td>NA        </td><td>-20.313901</td><td>      NA  </td><td>NA        </td></tr>\n",
       "\t<tr><td>S001      </td><td>D054      </td><td> 11.455108</td><td>NA        </td><td> -7.714286</td><td>      NA  </td><td>NA        </td><td>0         </td><td>NA        </td><td> -9.116488</td><td>      NA  </td><td>NA        </td></tr>\n",
       "\t<tr><td>S001      </td><td>D055      </td><td> 13.888889</td><td>NA        </td><td> 11.455108</td><td>      NA  </td><td>NA        </td><td>0         </td><td>NA        </td><td> 11.455108</td><td>-5.99176  </td><td>NA        </td></tr>\n",
       "\t<tr><td>S001      </td><td>D056      </td><td> 16.585366</td><td>NA        </td><td> 13.510520</td><td>270.3872  </td><td>NA        </td><td>0         </td><td>NA        </td><td> 13.888889</td><td> 5.40917  </td><td>NA        </td></tr>\n",
       "\t<tr><td>S001      </td><td>D057      </td><td> 12.384937</td><td>NA        </td><td> 16.279303</td><td>270.3872  </td><td>NA        </td><td>0         </td><td>NA        </td><td> 16.585366</td><td>13.97645  </td><td>NA        </td></tr>\n",
       "</tbody>\n",
       "</table>\n"
      ],
      "text/latex": [
       "\\begin{tabular}{r|llllllllllll}\n",
       " stock & date & fwd\\_returns & F05 & F06 & F12 & F13 & F14 & F15 & F21 & F22 & F23\\\\\n",
       "\\hline\n",
       "\t S001       & D052       & -20.313901 & NA         &         NA &       NA   & NA         & 0          & NA         &         NA &       NA   & NA        \\\\\n",
       "\t S001       & D053       &  -9.116488 & NA         & -14.648974 &       NA   & NA         & 0          & NA         & -20.313901 &       NA   & NA        \\\\\n",
       "\t S001       & D054       &  11.455108 & NA         &  -7.714286 &       NA   & NA         & 0          & NA         &  -9.116488 &       NA   & NA        \\\\\n",
       "\t S001       & D055       &  13.888889 & NA         &  11.455108 &       NA   & NA         & 0          & NA         &  11.455108 & -5.99176   & NA        \\\\\n",
       "\t S001       & D056       &  16.585366 & NA         &  13.510520 & 270.3872   & NA         & 0          & NA         &  13.888889 &  5.40917   & NA        \\\\\n",
       "\t S001       & D057       &  12.384937 & NA         &  16.279303 & 270.3872   & NA         & 0          & NA         &  16.585366 & 13.97645   & NA        \\\\\n",
       "\\end{tabular}\n"
      ],
      "text/markdown": [
       "\n",
       "stock | date | fwd_returns | F05 | F06 | F12 | F13 | F14 | F15 | F21 | F22 | F23 | \n",
       "|---|---|---|---|---|---|\n",
       "| S001       | D052       | -20.313901 | NA         |         NA |       NA   | NA         | 0          | NA         |         NA |       NA   | NA         | \n",
       "| S001       | D053       |  -9.116488 | NA         | -14.648974 |       NA   | NA         | 0          | NA         | -20.313901 |       NA   | NA         | \n",
       "| S001       | D054       |  11.455108 | NA         |  -7.714286 |       NA   | NA         | 0          | NA         |  -9.116488 |       NA   | NA         | \n",
       "| S001       | D055       |  13.888889 | NA         |  11.455108 |       NA   | NA         | 0          | NA         |  11.455108 | -5.99176   | NA         | \n",
       "| S001       | D056       |  16.585366 | NA         |  13.510520 | 270.3872   | NA         | 0          | NA         |  13.888889 |  5.40917   | NA         | \n",
       "| S001       | D057       |  12.384937 | NA         |  16.279303 | 270.3872   | NA         | 0          | NA         |  16.585366 | 13.97645   | NA         | \n",
       "\n",
       "\n"
      ],
      "text/plain": [
       "  stock date fwd_returns F05 F06        F12      F13 F14 F15 F21       \n",
       "1 S001  D052 -20.313901  NA          NA       NA NA  0   NA          NA\n",
       "2 S001  D053  -9.116488  NA  -14.648974       NA NA  0   NA  -20.313901\n",
       "3 S001  D054  11.455108  NA   -7.714286       NA NA  0   NA   -9.116488\n",
       "4 S001  D055  13.888889  NA   11.455108       NA NA  0   NA   11.455108\n",
       "5 S001  D056  16.585366  NA   13.510520 270.3872 NA  0   NA   13.888889\n",
       "6 S001  D057  12.384937  NA   16.279303 270.3872 NA  0   NA   16.585366\n",
       "  F22      F23\n",
       "1       NA NA \n",
       "2       NA NA \n",
       "3       NA NA \n",
       "4 -5.99176 NA \n",
       "5  5.40917 NA \n",
       "6 13.97645 NA "
      ]
     },
     "metadata": {},
     "output_type": "display_data"
    }
   ],
   "source": [
    "head(data_train1)"
   ]
  },
  {
   "cell_type": "markdown",
   "metadata": {},
   "source": [
    "## 1.2 Robutsness Check"
   ]
  },
  {
   "cell_type": "markdown",
   "metadata": {},
   "source": [
    "- ### By Sector"
   ]
  },
  {
   "cell_type": "markdown",
   "metadata": {},
   "source": [
    "- ### By Year\n",
    "#### Given the nature of this particular data set, we can regard 12 consecutive month as a year unit.\n",
    "#### The year defined here may not start from January, but still covers the full cycle of a year, so that any seasonality (or other calendar related patterns) of the strategies' performance will still be taken care of."
   ]
  },
  {
   "cell_type": "markdown",
   "metadata": {},
   "source": [
    "# Model Selection"
   ]
  },
  {
   "cell_type": "markdown",
   "metadata": {},
   "source": [
    "## In-Sample Backtest for Single Strategies"
   ]
  },
  {
   "cell_type": "code",
   "execution_count": null,
   "metadata": {
    "collapsed": true
   },
   "outputs": [],
   "source": [
    "sum(1/n * (1 + fwd_return/100)) - sum(1/n * (1 + fwd_return/100)) ## Long & short"
   ]
  },
  {
   "cell_type": "markdown",
   "metadata": {},
   "source": [
    "## Combined Strategy"
   ]
  }
 ],
 "metadata": {
  "kernelspec": {
   "display_name": "R",
   "language": "R",
   "name": "ir"
  },
  "language_info": {
   "codemirror_mode": "r",
   "file_extension": ".r",
   "mimetype": "text/x-r-source",
   "name": "R",
   "pygments_lexer": "r",
   "version": "3.4.3"
  }
 },
 "nbformat": 4,
 "nbformat_minor": 2
}
